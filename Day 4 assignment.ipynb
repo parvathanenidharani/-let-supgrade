{
 "cells": [
  {
   "cell_type": "code",
   "execution_count": null,
   "metadata": {},
   "outputs": [
    {
     "name": "stdout",
     "output_type": "stream",
     "text": [
      "enter lower range1042000\n",
      "enter upper range702648265\n"
     ]
    }
   ],
   "source": [
    "#armstrong number\n",
    "# the range you given has no armstrong numbers (it is getting kernel)\n",
    "lower=int(input(\"enter lower range\"))\n",
    "upper=int(input(\"enter upper range\"))\n",
    "for num in range(lower,upper+1):\n",
    "    sum=0\n",
    "    temp=num\n",
    "    while(temp>0):\n",
    "        digit=temp%10\n",
    "        sum+=digit**3\n",
    "        temp//=10\n",
    "        if(num==sum):\n",
    "            print(num)"
   ]
  },
  {
   "cell_type": "code",
   "execution_count": 2,
   "metadata": {},
   "outputs": [
    {
     "name": "stdout",
     "output_type": "stream",
     "text": [
      "enter lower range150\n",
      "enter upper range250\n",
      "153\n",
      "216\n"
     ]
    }
   ],
   "source": [
    "lower=int(input(\"enter lower range\"))\n",
    "upper=int(input(\"enter upper range\"))\n",
    "for num in range(lower,upper+1):\n",
    "    sum=0\n",
    "    temp=num\n",
    "    while(temp>0):\n",
    "        digit=temp%10\n",
    "        sum+=digit**3\n",
    "        temp//=10\n",
    "        if(num==sum):\n",
    "            print(num)"
   ]
  },
  {
   "cell_type": "code",
   "execution_count": null,
   "metadata": {},
   "outputs": [],
   "source": []
  }
 ],
 "metadata": {
  "kernelspec": {
   "display_name": "Python 3",
   "language": "python",
   "name": "python3"
  },
  "language_info": {
   "codemirror_mode": {
    "name": "ipython",
    "version": 3
   },
   "file_extension": ".py",
   "mimetype": "text/x-python",
   "name": "python",
   "nbconvert_exporter": "python",
   "pygments_lexer": "ipython3",
   "version": "3.8.3"
  }
 },
 "nbformat": 4,
 "nbformat_minor": 4
}
